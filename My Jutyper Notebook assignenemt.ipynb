{
  "metadata": {
    "language_info": {
      "codemirror_mode": {
        "name": "python",
        "version": 3
      },
      "file_extension": ".py",
      "mimetype": "text/x-python",
      "name": "python",
      "nbconvert_exporter": "python",
      "pygments_lexer": "ipython3",
      "version": "3.8"
    },
    "kernelspec": {
      "name": "python",
      "display_name": "Pyolite",
      "language": "python"
    }
  },
  "nbformat_minor": 4,
  "nbformat": 4,
  "cells": [
    {
      "cell_type": "markdown",
      "source": "# My Jupyter Notebook on Skills Network Lab",
      "metadata": {}
    },
    {
      "cell_type": "markdown",
      "source": "__Valerie Aubry__\n\nTraining and Quality manager",
      "metadata": {}
    },
    {
      "cell_type": "markdown",
      "source": "_I am interested in Data Science because I am working on Cloud programs in my current job and would like to be able to participate more in those programs_",
      "metadata": {}
    },
    {
      "cell_type": "markdown",
      "source": "### My codes are a very basic one, first one a simple calculation, and the second is to print my name",
      "metadata": {}
    },
    {
      "cell_type": "code",
      "source": "5*5",
      "metadata": {
        "trusted": true
      },
      "execution_count": 7,
      "outputs": [
        {
          "execution_count": 7,
          "output_type": "execute_result",
          "data": {
            "text/plain": "25"
          },
          "metadata": {}
        }
      ]
    },
    {
      "cell_type": "markdown",
      "source": "Please discover my blog [here](https://www.valenbarcelona.com)\nYou will find:\n1. Nice and easy to prepare recipes\n2. Tips and tricks\n3. You can also follow me on [Instragram](https://www.instagram.com/valenbarcelona/) \n\nIn the table below you can find my last running data:\n\n| Date (center) | Meters (left) | Km (left) | Minutes (right) | Heartbeat (right) | Minutes for 1 km (center) | km/hours (center)|\n| :------: | :------ | :------ | ------: | ------: | :------: | :------: | \n| 10/10/2022 | 7741 | 7.741 | 49 | 147 | 6.33 | 9.48 |\n| 17/10/2022 | 2915| 2.915 | 20 | 157 | 6.86 | 8.75 |",
      "metadata": {}
    },
    {
      "cell_type": "code",
      "source": "",
      "metadata": {},
      "execution_count": null,
      "outputs": []
    }
  ]
}